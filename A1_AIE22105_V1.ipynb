{
  "nbformat": 4,
  "nbformat_minor": 0,
  "metadata": {
    "colab": {
      "provenance": []
    },
    "kernelspec": {
      "name": "python3",
      "display_name": "Python 3"
    },
    "language_info": {
      "name": "python"
    }
  },
  "cells": [
    {
      "cell_type": "code",
      "execution_count": 20,
      "metadata": {
        "colab": {
          "base_uri": "https://localhost:8080/"
        },
        "id": "B844doQbB-vG",
        "outputId": "479cbd54-3d46-45f0-8178-52518ff5673c"
      },
      "outputs": [
        {
          "output_type": "stream",
          "name": "stdout",
          "text": [
            "The count of pairs with sum 10 in the list is: 2\n"
          ]
        }
      ],
      "source": [
        "# Question 1- Consider the given list as [2,7,4,1,3,6].Write a program to count pairs of elements with sum equal to 10.\n",
        "def count_pairs_with_sum(lst, target_sum):\n",
        "    pairs_count = 0\n",
        "    seen_numbers = set()  # Keeps a track of numbers seen during the iteration\n",
        "\n",
        "    for num in lst:\n",
        "        complement = target_sum - num # Calculates the complement from the target number\n",
        "        if complement in seen_numbers:  # Checks if the complement number is present in the list\n",
        "            pairs_count += 1 #If the number is present , the no of pairs is incremented\n",
        "        seen_numbers.add(num)\n",
        "\n",
        "    return pairs_count\n",
        "\n",
        "def main():\n",
        "  list_given = [2, 7, 4, 1, 3, 6]\n",
        "  target_sum = 10\n",
        "  pairs_count = count_pairs_with_sum(list_given, target_sum)\n",
        "  print(f\"The count of pairs with sum {target_sum} in the list is: {pairs_count}\")\n",
        "\n",
        "if __name__ == \"__main__\":\n",
        "    main()\n"
      ]
    },
    {
      "cell_type": "code",
      "source": [
        "# Question 2- Write a program that takes a list of real numbersas input and returns the range(difference between minimum and maximum) of the list.Check for list being lessthan 3 elementsin whichcase return anerror message.\n",
        "def calculate_range(real_numbers):\n",
        "    if len(real_numbers) < 3: #Checks the condition of the size of the list\n",
        "        return(\"Range determination not possible.\") # Display error message\n",
        "\n",
        "    return max(real_numbers) - min(real_numbers) #Calculates the range directly\n",
        "\n",
        "\n",
        "def main():\n",
        "  real_numbers_list = [5, 3, 8, 1, 0, 4]\n",
        "  minimum_no=min(real_numbers_list)\n",
        "  maximum_no=max(real_numbers_list)\n",
        "  range_a = calculate_range(real_numbers_list)\n",
        "  print(f\"Range of the list: {range_a} ({maximum_no} - {minimum_no})\")\n",
        "\n",
        "if __name__ == \"__main__\":\n",
        "    main()\n"
      ],
      "metadata": {
        "colab": {
          "base_uri": "https://localhost:8080/"
        },
        "id": "oEmABqziDFU7",
        "outputId": "cb75b47e-63c8-47b0-c05e-f4d029e0c185"
      },
      "execution_count": 21,
      "outputs": [
        {
          "output_type": "stream",
          "name": "stdout",
          "text": [
            "Range of the list: 8 (8 - 0)\n"
          ]
        }
      ]
    },
    {
      "cell_type": "code",
      "source": [
        "# Question 3- Write a program that accepts a square matrix A and a positive integer m as arguments and returns A^m.\n",
        "def matrix_power(matrix, power):\n",
        "    result = matrix #Initializes result to the original matrix\n",
        "    for _ in range(power - 1): #Iterates from 0 to m-1 values\n",
        "        result = [[sum(a * b for a, b in zip(row, col)) for col in zip(*matrix)] for row in result] #Performing matrix multiplication using list comprehensions.\n",
        "\n",
        "    return result\n",
        "\n",
        "def main():\n",
        "  size_of_matrix = int(input(\"Enter the size of the square matrix \"))\n",
        "\n",
        "  matrixA = []\n",
        "  for i in range(size_of_matrix): # Inputs the matrix elements row wise\n",
        "      row = [int(ele) for ele in input(f\"Enter values for row {i + 1} (give space in between the numbers): \").split()]\n",
        "      matrixA.append(row)\n",
        "\n",
        "  m = int(input(\"Enter the positive integer m(power to raise the matrix): \"))\n",
        "\n",
        "  result_matrixA = matrix_power(matrixA, m)\n",
        "  print(f\"Resultant matrix after raising to the power {m}:\\n{result_matrixA}\")\n",
        "\n",
        "if __name__ == \"__main__\":\n",
        "    main()\n"
      ],
      "metadata": {
        "colab": {
          "base_uri": "https://localhost:8080/"
        },
        "id": "NQB8V172GJWr",
        "outputId": "051946f4-7fce-4a9a-f4d9-11f00d6364ad"
      },
      "execution_count": 22,
      "outputs": [
        {
          "output_type": "stream",
          "name": "stdout",
          "text": [
            "Enter the size of the square matrix 2\n",
            "Enter values for row 1 (give space in between the numbers): 1 2\n",
            "Enter values for row 2 (give space in between the numbers): 3 4\n",
            "Enter the positive integer m(power to raise the matrix): 3\n",
            "Resultant matrix after raising to the power 3:\n",
            "[[37, 54], [81, 118]]\n"
          ]
        }
      ]
    },
    {
      "cell_type": "code",
      "source": [
        "# Question 4- Write a program to count the highest occurring character & its occurrence count in an inputstring. Consider only alphabets.\n",
        "def highest_occurrence_char(input_string):\n",
        "    char_count = {} # Counts the occurences of each character\n",
        "    for char in input_string:\n",
        "        if char.isalpha(): #Checks if the character is alphabet\n",
        "            char_count[char] = char_count.get(char, 0) + 1 #If the alphabet is repeatred then the value is incremented\n",
        "\n",
        "    if not char_count: # Checks if there is no Alphabet present in the given string\n",
        "        return None, 0\n",
        "\n",
        "    max_char = max(char_count, key=char_count.get) #Stores the maximum occured character\n",
        "    max_count = char_count[max_char] # Stores the count of occurence of the character\n",
        "\n",
        "    return max_char, max_count\n",
        "\n",
        "def main():\n",
        "  input_string = \"hippopotamus\"\n",
        "  maximum_occ_char, max_count = highest_occurrence_char(input_string)\n",
        "  print(f\"Maximum occurring character: '{maximum_occ_char}', Occurrence count: {max_count}\")\n",
        "\n",
        "\n",
        "if __name__ == \"__main__\":\n",
        "    main()"
      ],
      "metadata": {
        "colab": {
          "base_uri": "https://localhost:8080/"
        },
        "id": "mSF9kJv2Lf4S",
        "outputId": "639548e7-dbd6-401c-ff61-a002c65671a8"
      },
      "execution_count": 23,
      "outputs": [
        {
          "output_type": "stream",
          "name": "stdout",
          "text": [
            "Maximum occurring character: 'p', Occurrence count: 3\n"
          ]
        }
      ]
    }
  ]
}